{
 "cells": [
  {
   "cell_type": "code",
   "execution_count": 2,
   "metadata": {},
   "outputs": [
    {
     "name": "stdout",
     "output_type": "stream",
     "text": [
      " Fastai 2.7.6\n",
      "Pytorch 1.12.0\n",
      "   Timm 0.6.2.dev0\n",
      "    GPU NVIDIA GeForce RTX 2070 (8191 MB)\n"
     ]
    }
   ],
   "source": [
    "import torch\n",
    "import fastai\n",
    "from fastbook import *\n",
    "import timm\n",
    "print(f' Fastai {fastai.__version__}\\nPytorch {torch.__version__}\\n   Timm {timm.__version__}')\n",
    "try:\n",
    "    free, total = torch.cuda.mem_get_info()\n",
    "    print(f'    GPU {torch.cuda.get_device_name(0)} ({total//1024**2} MB)')\n",
    "except: print(\"No GPU detected\")"
   ]
  },
  {
   "cell_type": "markdown",
   "metadata": {},
   "source": [
    "# 🖼️ CNN prediction constriction"
   ]
  },
  {
   "cell_type": "code",
   "execution_count": null,
   "metadata": {},
   "outputs": [],
   "source": []
  },
  {
   "cell_type": "code",
   "execution_count": null,
   "metadata": {},
   "outputs": [],
   "source": []
  }
 ],
 "metadata": {
  "kernelspec": {
   "display_name": "Python 3",
   "language": "python",
   "name": "python3"
  },
  "language_info": {
   "codemirror_mode": {
    "name": "ipython",
    "version": 3
   },
   "file_extension": ".py",
   "mimetype": "text/x-python",
   "name": "python",
   "nbconvert_exporter": "python",
   "pygments_lexer": "ipython3",
   "version": "3.7.4"
  }
 },
 "nbformat": 4,
 "nbformat_minor": 2
}
